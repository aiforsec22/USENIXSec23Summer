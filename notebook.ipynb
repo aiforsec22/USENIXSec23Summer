{
 "cells": [
  {
   "cell_type": "markdown",
   "id": "52a0c555",
   "metadata": {},
   "source": [
    "### Running on the TestSet 1 for KG1 (75-25 train/test split)"
   ]
  },
  {
   "cell_type": "code",
   "execution_count": null,
   "id": "e38329c9",
   "metadata": {},
   "outputs": [],
   "source": [
    "!CUDA_VISIBLE_DEVICES=0 python3 \"src/main.py\" --num_iterations 1000 --dataset 150_75 --edim 50 --rdim 50 --lr 0.001 --batch_size 64 --input_dropout 0.5 --hidden_dropout1 0.5 --hidden_dropout2 0.5 --label_smoothing 0.2"
   ]
  },
  {
   "cell_type": "markdown",
   "id": "078f2464",
   "metadata": {},
   "source": [
    "### Running on the TestSet 2 for KG2 (60-40 train/test split)"
   ]
  },
  {
   "cell_type": "code",
   "execution_count": null,
   "id": "afe47df3",
   "metadata": {},
   "outputs": [],
   "source": [
    "!CUDA_VISIBLE_DEVICES=0 python3 \"src/main.py\" --num_iterations 1000 --dataset 150_60 --edim 50 --rdim 50 --lr 0.001 --batch_size 64 --input_dropout 0.5 --hidden_dropout1 0.5 --hidden_dropout2 0.5 --label_smoothing 0.2"
   ]
  },
  {
   "cell_type": "code",
   "execution_count": null,
   "id": "d35210a4",
   "metadata": {},
   "outputs": [],
   "source": []
  }
 ],
 "metadata": {
  "kernelspec": {
   "display_name": "Python 3 (ipykernel)",
   "language": "python",
   "name": "python3"
  },
  "language_info": {
   "codemirror_mode": {
    "name": "ipython",
    "version": 3
   },
   "file_extension": ".py",
   "mimetype": "text/x-python",
   "name": "python",
   "nbconvert_exporter": "python",
   "pygments_lexer": "ipython3",
   "version": "3.8.6"
  }
 },
 "nbformat": 4,
 "nbformat_minor": 5
}
